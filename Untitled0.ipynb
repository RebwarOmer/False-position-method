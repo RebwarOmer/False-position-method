{
  "nbformat": 4,
  "nbformat_minor": 0,
  "metadata": {
    "colab": {
      "provenance": [],
      "authorship_tag": "ABX9TyNGbRhqhEqdQot33vbNQL58",
      "include_colab_link": true
    },
    "kernelspec": {
      "name": "python3",
      "display_name": "Python 3"
    },
    "language_info": {
      "name": "python"
    }
  },
  "cells": [
    {
      "cell_type": "markdown",
      "metadata": {
        "id": "view-in-github",
        "colab_type": "text"
      },
      "source": [
        "<a href=\"https://colab.research.google.com/github/RebwarOmer/False-position-method/blob/main/Untitled0.ipynb\" target=\"_parent\"><img src=\"https://colab.research.google.com/assets/colab-badge.svg\" alt=\"Open In Colab\"/></a>"
      ]
    },
    {
      "cell_type": "code",
      "execution_count": 18,
      "metadata": {
        "colab": {
          "base_uri": "https://localhost:8080/"
        },
        "id": "Kny4fV4ToVW4",
        "outputId": "1136ef94-59de-4c3a-be11-95b5cc75dc3d"
      },
      "outputs": [
        {
          "output_type": "stream",
          "name": "stdout",
          "text": [
            "Enter the function (x**1 - x -1): x**3 - x -1\n",
            "Enter the value of a: 1\n",
            "Enter the value of b: 2\n",
            "Enter the error tolerance (E): 0.066\n",
            "Approximate root: 1.3112810214872344\n",
            "Iterations performed: 3\n"
          ]
        }
      ],
      "source": [
        "def false_position_method(func, a, b, tol=1e-6, max_iter=100):\n",
        "    \"\"\"\n",
        "    Find the root of a function within the given interval using the False Position Method.\n",
        "\n",
        "    Parameters:\n",
        "    - func: The function for which to find the root.\n",
        "    - a, b: Initial interval [a, b] where the root is expected to be.\n",
        "    - tol: Tolerance, a small positive number (default is 1e-6).\n",
        "    - max_iter: Maximum number of iterations (default is 100).\n",
        "\n",
        "    Returns:\n",
        "    - root: Approximate root of the function if convergence occurs, None otherwise.\n",
        "    - iterations: Number of iterations performed.\n",
        "    \"\"\"\n",
        "    if func(a) * func(b) >= 0:\n",
        "        raise ValueError(\"The interval [a, b] must enclose a root.\")\n",
        "\n",
        "    iterations = 0\n",
        "    while iterations < max_iter:\n",
        "        c = (a * func(b) - b * func(a)) / (func(b) - func(a))\n",
        "\n",
        "        if abs(func(c)) < tol:\n",
        "            return c, iterations\n",
        "\n",
        "        if func(c) * func(a) < 0:\n",
        "            b = c\n",
        "        else:\n",
        "            a = c\n",
        "\n",
        "        iterations += 1\n",
        "\n",
        "    # Return None for root if no convergence\n",
        "    return None, iterations\n",
        "\n",
        "if __name__ == \"__main__\":\n",
        "    # Get user input for the function as a string\n",
        "    func_str = input(\"Enter the function (x**1 - x -1): \")\n",
        "\n",
        "    # Convert the input string to a Python function\n",
        "    def user_function(x):\n",
        "        return eval(func_str, {'x': x})\n",
        "\n",
        "    # Get user input for the initial interval [a, b] and error tolerance\n",
        "    a = float(input(\"Enter the value of a: \"))\n",
        "    b = float(input(\"Enter the value of b: \"))\n",
        "    tol = float(input(\"Enter the error tolerance (E): \"))\n",
        "\n",
        "    # Check if the interval [a, b] encloses a root\n",
        "    if user_function(a) * user_function(b) >= 0:\n",
        "        print(\"The interval [a, b] must enclose a root. Try different values for a and b.\")\n",
        "    else:\n",
        "        # Call the false_position_method function\n",
        "        root, iterations = false_position_method(user_function, a, b, tol)\n",
        "\n",
        "        if root is not None:\n",
        "            print(f\"Approximate root: {root}\")\n",
        "            print(f\"Iterations performed: {iterations}\")\n",
        "        else:\n",
        "            print(\"Method did not converge. Try a different initial interval or increase the maximum number of iterations.\")\n"
      ]
    }
  ]
}